{
 "cells": [
  {
   "cell_type": "code",
   "execution_count": 1,
   "metadata": {},
   "outputs": [],
   "source": [
    "from azure.core.credentials import AzureKeyCredential\n",
    "from azure.core.exceptions import HttpResponseError\n",
    "from azure.search.documents import SearchClient\n",
    "from nltk.stem import SnowballStemmer\n",
    "from nltk.tokenize import word_tokenize\n",
    "from random import randint\n",
    "from typing import Dict, Tuple\n",
    "from unidecode import unidecode\n",
    "import config\n",
    "import glob\n",
    "import os.path\n",
    "import re\n",
    "search_endpoint = \"https://ai-search-acpr-hackathon.search.windows.net\" # Add your Azure AI Search endpoint here\n",
    "search_key = config.azure_search_key  # Add your Azure AI Search admin key here\n",
    "search_index_name = \"equipe-6-faq-v1\" # Add your Azure AI Search index name here\n",
    "\n",
    "os.environ[\"SearchEndpoint\"] = search_endpoint\n",
    "os.environ[\"SearchKey\"] = search_key\n",
    "os.environ['SearchIndex'] = search_index_name\n",
    "\n",
    "search_endpoint = \"https://ai-search-acpr-hackathon.search.windows.net\"\n",
    "search_credential = AzureKeyCredential(\"SEARCH_API_KEY\")\n",
    "search_client = SearchClient(\n",
    "  endpoint=search_endpoint,\n",
    "  index_name=search_index_name,\n",
    "  credential=search_credential,\n",
    ")\n"
   ]
  },
  {
   "cell_type": "code",
   "execution_count": 2,
   "metadata": {},
   "outputs": [],
   "source": [
    "\n",
    "def compress_and_clean(text: str) -> str:\n",
    "    \"\"\"\n",
    "    Compress and clean a text.\n",
    "\n",
    "    Use the Snowball stemmer to stem words and remove all special characters, as the LLM does not give a damn.\n",
    "    \"\"\"\n",
    "    text = text.replace(\"\\\\\", \"\")  # Remove all backslashes\n",
    "    text = re.sub(r\":[a-z]*:\", \"\", text)  # Remove all :unselected: and :selected: tags\n",
    "    text = re.sub(r\"<!--[^<>]*-->\", \"\", text)  # Remove all comments\n",
    "    return text\n",
    "\n",
    "\n",
    "def data(content: str, source_uri: str, title: str, iterator: int) -> dict[str, str]:\n",
    "    \"\"\"\n",
    "    Generate a data object for the search index.\n",
    "\n",
    "    Use deterministic ID to avoid duplicates after a new run. Remove all special characters from title.\n",
    "    \"\"\"\n",
    "    return {\n",
    "        \"content\": content,\n",
    "        \"id\": f\"{'_'.join(re.sub('[^a-z0-9]', ' ', unidecode(source_uri).lower()).split())}-{iterator}\",\n",
    "        \"source_uri\": unidecode(source_uri).lower(),\n",
    "        \"title\": ' '.join(re.sub('[^a-z0-9]', ' ', unidecode(title).lower()).split()),\n",
    "    }"
   ]
  },
  {
   "cell_type": "code",
   "execution_count": 3,
   "metadata": {},
   "outputs": [],
   "source": [
    "from langchain_community.document_loaders import TextLoader, DirectoryLoader\n",
    "from langchain.vectorstores.azuresearch import AzureSearch\n",
    "from langchain.text_splitter import RecursiveCharacterTextSplitter\n",
    "from langchain_openai import AzureOpenAIEmbeddings\n",
    "from langchain_community.vectorstores import Chroma\n",
    "import glob"
   ]
  },
  {
   "cell_type": "code",
   "execution_count": 4,
   "metadata": {},
   "outputs": [
    {
     "data": {
      "text/plain": [
       "['./base_de_connaissance\\\\1_JD.txt',\n",
       " './base_de_connaissance\\\\2_JD.txt',\n",
       " './base_de_connaissance\\\\3_JD.txt',\n",
       " './base_de_connaissance\\\\4_JD.txt',\n",
       " './base_de_connaissance\\\\5_JD.txt',\n",
       " './base_de_connaissance\\\\6_JD.txt',\n",
       " './base_de_connaissance\\\\7_JD.txt',\n",
       " './base_de_connaissance\\\\base_de_connaissance.zip',\n",
       " './base_de_connaissance\\\\Question 1.txt',\n",
       " './base_de_connaissance\\\\Question 2.txt',\n",
       " './base_de_connaissance\\\\Question 3.txt',\n",
       " './base_de_connaissance\\\\Question 4.txt',\n",
       " './base_de_connaissance\\\\Question 5.txt',\n",
       " './base_de_connaissance\\\\Question 6.txt',\n",
       " './base_de_connaissance\\\\Question 7.txt',\n",
       " './base_de_connaissance\\\\Question 8.txt',\n",
       " './base_de_connaissance\\\\Question 9.txt']"
      ]
     },
     "execution_count": 4,
     "metadata": {},
     "output_type": "execute_result"
    }
   ],
   "source": [
    "list_file_path = glob.glob(\"./base_de_connaissance/*\")\n",
    "list_file_path"
   ]
  },
  {
   "cell_type": "code",
   "execution_count": 5,
   "metadata": {},
   "outputs": [],
   "source": [
    "\n",
    "# file_path = list_file_path[0]\n",
    "# loader = TextLoader(file_path)\n",
    "# documents = loader.load()\n",
    "\n",
    "\n",
    "loader = DirectoryLoader('./base_de_connaissance/', glob=\"*.txt\", loader_cls=TextLoader, loader_kwargs={'autodetect_encoding': True})\n",
    "\n",
    "documents = loader.load()\n",
    "# text_splitter = TokenTextSplitter(chunk_size=1000, chunk_overlap=0)\n",
    "# docs = text_splitter.split_documents(documents)\n",
    "\n",
    "# Add documents to Azure Search\n",
    "# acs.add_documents(documents=docs)\n",
    "\n",
    "\n"
   ]
  },
  {
   "cell_type": "code",
   "execution_count": 6,
   "metadata": {},
   "outputs": [],
   "source": [
    "os.environ[\"OPENAI_API_TYPE\"] = \"azure\"\n",
    "# os.environ[\"OPENAI_API_BASE\"] = \"https://francecentral-openai.openai.azure.com\"\n",
    "os.environ[\"OPENAI_API_KEY\"] = config.azure_ada_key\n",
    "os.environ[\"OPENAI_API_VERSION\"] = \"2023-05-15\"   \n",
    "\n",
    "\n",
    "os.environ[\"AZURE_OPENAI_ENDPOINT\"] = \"https://francecentral-openai.openai.azure.com\"\n",
    "os.environ[\"AZURE_OPENAI_API_KEY\"] = config.azure_ada_key\n"
   ]
  },
  {
   "cell_type": "code",
   "execution_count": 7,
   "metadata": {},
   "outputs": [],
   "source": [
    "text_splitter = RecursiveCharacterTextSplitter(\n",
    "    chunk_size=256,\n",
    "    chunk_overlap=128,\n",
    "    length_function=len,\n",
    "    add_start_index=True)\n",
    "\n",
    "chunks = text_splitter.split_documents(documents)\n",
    "\n",
    "embeddings = AzureOpenAIEmbeddings(deployment=\"ada-002\")        \n"
   ]
  },
  {
   "cell_type": "code",
   "execution_count": 8,
   "metadata": {},
   "outputs": [
    {
     "data": {
      "text/plain": [
       "[Document(page_content='Question : Quel est le nombre minimal d’adhérent d’une SAM ?', metadata={'source': 'base_de_connaissance\\\\1_JD.txt', 'start_index': 0}),\n",
       " Document(page_content=\"Réponse : D’après l’article R322-47§2 du code des assurances, le nombre minimal d’adhérent est de 500. Il est réduit à 7 pour les organismes mentionnés à l'article L. 771-1 du code rural et de la pêche maritime.\", metadata={'source': 'base_de_connaissance\\\\1_JD.txt', 'start_index': 62}),\n",
       " Document(page_content='Question : Quelles sont les modalités de convocation d’une assemblée générale d’une SAM ?', metadata={'source': 'base_de_connaissance\\\\2_JD.txt', 'start_index': 0}),\n",
       " Document(page_content='Réponse : Ces modalités sont présentées au sein de l’article R322-59 du code des assurances. Il y est en particulier précisé que :\\nLes statuts indiquent les conditions dans lesquelles est faite la convocation aux assemblées générales.', metadata={'source': 'base_de_connaissance\\\\2_JD.txt', 'start_index': 91}),\n",
       " Document(page_content=\"La convocation doit faire l'objet d'une insertion dans un journal habilité à recevoir les annonces légales dans le département du siège social et précéder de quinze jours au moins la date fixée pour la réunion de l'assemblée.\", metadata={'source': 'base_de_connaissance\\\\2_JD.txt', 'start_index': 327}),\n",
       " Document(page_content=\"La convocation doit également mentionner l'ordre du jour, l'assemblée ne pouvant délibérer que sur les questions figurant à cet ordre du jour. L'ordre du jour ne peut contenir que les propositions du conseil d'administration, du directoire ou du conseil\", metadata={'source': 'base_de_connaissance\\\\2_JD.txt', 'start_index': 553}),\n",
       " Document(page_content=\"ordre du jour. L'ordre du jour ne peut contenir que les propositions du conseil d'administration, du directoire ou du conseil de surveillance et celles qui lui auront été communiquées 25 jours au moins avant la réunion de l'assemblée générale avec la\", metadata={'source': 'base_de_connaissance\\\\2_JD.txt', 'start_index': 681}),\n",
       " Document(page_content=\"de surveillance et celles qui lui auront été communiquées 25 jours au moins avant la réunion de l'assemblée générale avec la signature d'un dixième des sociétaires au moins, pour les sociétés de moins de 1 000 sociétaires, de 100 sociétaires au moins pour\", metadata={'source': 'base_de_connaissance\\\\2_JD.txt', 'start_index': 807}),\n",
       " Document(page_content=\"d'un dixième des sociétaires au moins, pour les sociétés de moins de 1 000 sociétaires, de 100 sociétaires au moins pour les sociétés de 1 000 à 10 000 sociétaires, d'un centième des sociétaires au moins pour les sociétés de 10 000 à 100 000 sociétaires,\", metadata={'source': 'base_de_connaissance\\\\2_JD.txt', 'start_index': 942}),\n",
       " Document(page_content=\"de 1 000 à 10 000 sociétaires, d'un centième des sociétaires au moins pour les sociétés de 10 000 à 100 000 sociétaires, et de 1 000 sociétaires au moins pour les sociétés de plus de 100 000 sociétaires.\", metadata={'source': 'base_de_connaissance\\\\2_JD.txt', 'start_index': 1076}),\n",
       " Document(page_content='Question : Quelles sont les modalités des traités de réassurance constitutifs des unions de sociétés d’assurance mutuelle ?', metadata={'source': 'base_de_connaissance\\\\3_JD.txt', 'start_index': 0}),\n",
       " Document(page_content='Réponse : D’après les articles L322-26-3 et R322-116 du code des assurances :', metadata={'source': 'base_de_connaissance\\\\3_JD.txt', 'start_index': 125}),\n",
       " Document(page_content=\"Le traité de réassurance contracté par une société d'assurance mutuelle auprès d'une union de SAM doit spécifier que celle-ci se porte caution solidaire, vis-à-vis des assurés et des tiers, de l'intégralité des engagements de la mutuelle ; il doit\", metadata={'source': 'base_de_connaissance\\\\3_JD.txt', 'start_index': 203}),\n",
       " Document(page_content=\"se porte caution solidaire, vis-à-vis des assurés et des tiers, de l'intégralité des engagements de la mutuelle ; il doit s'étendre à l'ensemble des opérations pratiquées par ladite société et ne peut être limité à l'une des branches qu'elle pratique.\", metadata={'source': 'base_de_connaissance\\\\3_JD.txt', 'start_index': 329}),\n",
       " Document(page_content='Question : Qu’est-ce que l’effet Dampener ?', metadata={'source': 'base_de_connaissance\\\\4_JD.txt', 'start_index': 0}),\n",
       " Document(page_content=\"Réponse : L’effet Dampener est l’impact des fluctuations du marché action sur l'ajustement symétrique de l'exigence standard de capital pour actions défini par les articles R352-7 du code des assurances et 172 du règlement délégué.\", metadata={'source': 'base_de_connaissance\\\\4_JD.txt', 'start_index': 45}),\n",
       " Document(page_content=\"Cet ajustement couvre le risque découlant des variations de niveau du cours des actions et est fonction du niveau actuel d'un indice approprié du cours des actions et de la moyenne pondérée de cet indice. La moyenne pondérée est calculée sur une période\", metadata={'source': 'base_de_connaissance\\\\4_JD.txt', 'start_index': 277}),\n",
       " Document(page_content='indice approprié du cours des actions et de la moyenne pondérée de cet indice. La moyenne pondérée est calculée sur une période de 36 mois.', metadata={'source': 'base_de_connaissance\\\\4_JD.txt', 'start_index': 403}),\n",
       " Document(page_content=\"L'ajustement symétrique est compris entre -10% et +10%.\", metadata={'source': 'base_de_connaissance\\\\4_JD.txt', 'start_index': 543}),\n",
       " Document(page_content='Question : Quelles sont les exigences sur les hypothèses retenues dans le calcul des provisions techniques prudentielles ?', metadata={'source': 'base_de_connaissance\\\\5_JD.txt', 'start_index': 0}),\n",
       " Document(page_content='Réponse : D’après l’article R 351-2 du code des assurances, les exigences sont précisées au sein des articles 22 à 26 du règlement délégué.', metadata={'source': 'base_de_connaissance\\\\5_JD.txt', 'start_index': 124}),\n",
       " Document(page_content=\"De manière générale, l'entreprise d'assurance ou de réassurance doit être en mesure d'expliquer et de justifier chacune des hypothèses utilisées, compte tenu de l'importance de l'hypothèse considérée, de l'incertitude qui lui est liée, de sa pertinence\", metadata={'source': 'base_de_connaissance\\\\5_JD.txt', 'start_index': 264}),\n",
       " Document(page_content=\"utilisées, compte tenu de l'importance de l'hypothèse considérée, de l'incertitude qui lui est liée, de sa pertinence avec les risques modélisés et des autres hypothèses pertinentes existantes. Les circonstances dans lesquelles les hypothèses retenues\", metadata={'source': 'base_de_connaissance\\\\5_JD.txt', 'start_index': 399}),\n",
       " Document(page_content='risques modélisés et des autres hypothèses pertinentes existantes. Les circonstances dans lesquelles les hypothèses retenues seraient considérées comme fausses doivent également être clairement identifiées.', metadata={'source': 'base_de_connaissance\\\\5_JD.txt', 'start_index': 526}),\n",
       " Document(page_content=\"Lorsque l'entreprise d'assurance ou de réassurance recourt à un modèle pour produire des projections de paramètres et scénarios futurs des marchés financiers, celui-ci doit vérifier l’hypothèse d’absence d’opportunité d’arbitrage et générer des prix\", metadata={'source': 'base_de_connaissance\\\\5_JD.txt', 'start_index': 734}),\n",
       " Document(page_content='futurs des marchés financiers, celui-ci doit vérifier l’hypothèse d’absence d’opportunité d’arbitrage et générer des prix d’actifs ainsi qu’une courbe des taux sans risques cohérents avec les données observées.', metadata={'source': 'base_de_connaissance\\\\5_JD.txt', 'start_index': 862}),\n",
       " Document(page_content='S’agissant des hypothèses relatives aux futures décisions de gestion, celles-ci sont considérées comme réalistes lorsqu’elles sont cohérentes entre elles et avec les pratiques et la stratégie actuelle de l’entreprise d’assurance ou lorsqu’il est possible', metadata={'source': 'base_de_connaissance\\\\5_JD.txt', 'start_index': 1074}),\n",
       " Document(page_content='cohérentes entre elles et avec les pratiques et la stratégie actuelle de l’entreprise d’assurance ou lorsqu’il est possible d’attester que l’entreprise modifiera ses pratiques. L’entreprise produit une également une comparaison des futures décisions de', metadata={'source': 'base_de_connaissance\\\\5_JD.txt', 'start_index': 1205}),\n",
       " Document(page_content=\"que l’entreprise modifiera ses pratiques. L’entreprise produit une également une comparaison des futures décisions de gestion dont la mise en œuvre est présumée avec les décisions de gestion que l'entreprise a prises précédemment et des analyses\", metadata={'source': 'base_de_connaissance\\\\5_JD.txt', 'start_index': 1340}),\n",
       " Document(page_content=\"gestion dont la mise en œuvre est présumée avec les décisions de gestion que l'entreprise a prises précédemment et des analyses d’incidences. Le plan des futures décisions de gestion mentionné à l’article 23 du règlement délégué doit être approuvé par\", metadata={'source': 'base_de_connaissance\\\\5_JD.txt', 'start_index': 1458}),\n",
       " Document(page_content='d’incidences. Le plan des futures décisions de gestion mentionné à l’article 23 du règlement délégué doit être approuvé par l’organe d’administration.', metadata={'source': 'base_de_connaissance\\\\5_JD.txt', 'start_index': 1586}),\n",
       " Document(page_content=\"En ce qui concerne les hypothèses portant sur les comportements des preneurs d’assurances. les entreprises d'assurance procèdent à une analyse du comportement passé des preneurs et à une évaluation prospective de leur comportement attendu. Cette dernière\", metadata={'source': 'base_de_connaissance\\\\5_JD.txt', 'start_index': 1738}),\n",
       " Document(page_content='à une analyse du comportement passé des preneurs et à une évaluation prospective de leur comportement attendu. Cette dernière doit prendre en compte la profitabilité des choix du preneurs d’assurances pour ce dernier, la situation économique, les futures', metadata={'source': 'base_de_connaissance\\\\5_JD.txt', 'start_index': 1867}),\n",
       " Document(page_content='prendre en compte la profitabilité des choix du preneurs d’assurances pour ce dernier, la situation économique, les futures décisions de gestion.', metadata={'source': 'base_de_connaissance\\\\5_JD.txt', 'start_index': 1998}),\n",
       " Document(page_content='Question : Comment sont calculés les fonds propres prudentielles ?', metadata={'source': 'base_de_connaissance\\\\6_JD.txt', 'start_index': 0}),\n",
       " Document(page_content='Réponse : D’après l’articles R351-18 du code des assurances, les fonds propres prudentiels sont constitués de l’excédent des actifs par rapport aux passifs prudentiels auxquels sont retirés les actions propres, les passifs subordonnés et les fonds propres', metadata={'source': 'base_de_connaissance\\\\6_JD.txt', 'start_index': 68}),\n",
       " Document(page_content='par rapport aux passifs prudentiels auxquels sont retirés les actions propres, les passifs subordonnés et les fonds propres auxiliaires hors bilan.', metadata={'source': 'base_de_connaissance\\\\6_JD.txt', 'start_index': 200}),\n",
       " Document(page_content=\"Les fonds propres auxiliaires sont constitués d’après l’article R351-19 du code des assurances d'éléments, autres que les fonds propres de base, qui peuvent être appelés pour absorber des pertes.\", metadata={'source': 'base_de_connaissance\\\\6_JD.txt', 'start_index': 348}),\n",
       " Document(page_content='Question : Comment est calculée la marge de risque ?', metadata={'source': 'base_de_connaissance\\\\7_JD.txt', 'start_index': 0}),\n",
       " Document(page_content='Réponse : D’après l’article 37 du règlement délégué, la marge de risque est calculée comme la somme actualisée des SCR multipliée par le coût du capital fixé d’après l’article 39 à 6%.', metadata={'source': 'base_de_connaissance\\\\7_JD.txt', 'start_index': 54}),\n",
       " Document(page_content='En application du principe de proportionnalité introduit par l’article 56 du règlement délégué, les organismes peuvent selon l’article 58 employer une méthode simplifiée.', metadata={'source': 'base_de_connaissance\\\\7_JD.txt', 'start_index': 239}),\n",
       " Document(page_content='D’après la notice solvabilité II sur les provisions techniques de l’ACPR, il existe 4 méthodes simplifiées :', metadata={'source': 'base_de_connaissance\\\\7_JD.txt', 'start_index': 410}),\n",
       " Document(page_content='La première consiste à approximer les risques au sein des modules employés dans le calcul des SCR futurs. La deuxième consiste à remplacer les SCR futurs par le SCR actuelle multiplié par le ratio du BE futur sur le BE actuel. La troisième méthode', metadata={'source': 'base_de_connaissance\\\\7_JD.txt', 'start_index': 519}),\n",
       " Document(page_content='à remplacer les SCR futurs par le SCR actuelle multiplié par le ratio du BE futur sur le BE actuel. La troisième méthode remplace la somme actualisée par la duration modifiée des passifs qui est alors employé comme facteur de proportionnalité au SCR', metadata={'source': 'base_de_connaissance\\\\7_JD.txt', 'start_index': 646}),\n",
       " Document(page_content='la somme actualisée par la duration modifiée des passifs qui est alors employé comme facteur de proportionnalité au SCR actuel. Enfin la quatrième méthode consiste à calculer la marge de risque comme pourcentage du BE.', metadata={'source': 'base_de_connaissance\\\\7_JD.txt', 'start_index': 776}),\n",
       " Document(page_content=\"Question:La réalisation d'un ORSA est-il obligatoire ? \\n\\nRéponse : Selon article L.354-2 du code des assurances prévoit l'obligation d’établir un ORSA participant au système de gestion des risques.\", metadata={'source': 'base_de_connaissance\\\\Question 1.txt', 'start_index': 0}),\n",
       " Document(page_content='Question : Quelles informations doit contenir un ORSA ?', metadata={'source': 'base_de_connaissance\\\\Question 2.txt', 'start_index': 0}),\n",
       " Document(page_content=\"Réponse : Selon l'article R. 354-3 du code des assurances, l'évaluation interne des risques et de la solvabilité porte au moins sur :\\n - le besoin global de solvabilité\\xa0(BGS) («\\xa01ère évaluation\\xa0»);\", metadata={'source': 'base_de_connaissance\\\\Question 2.txt', 'start_index': 57}),\n",
       " Document(page_content='- le besoin global de solvabilité\\xa0(BGS) («\\xa01ère évaluation\\xa0»); \\n - le respect permanent des exigences de capital et des exigences concernant les provisions techniques\\xa0(«\\xa02ème évaluation\\xa0»);', metadata={'source': 'base_de_connaissance\\\\Question 2.txt', 'start_index': 192}),\n",
       " Document(page_content=\"- la mesure dans laquelle le profil de risque de l'entreprise s'écarte des hypothèses qui sous-tendent le calcul du capital de solvabilité requis (SCR) («\\xa03ème évaluation\\xa0»).\", metadata={'source': 'base_de_connaissance\\\\Question 2.txt', 'start_index': 384}),\n",
       " Document(page_content=\"Question: Un ORSA annuel est-il obligatoire?\\n\\nRéponse: Selon l'article R354-3-4 du code des assurances, les entreprises procèdent à cette évaluation interne au moins une fois par an et en cas d'évolution notable de leur profil de risque.\", metadata={'source': 'base_de_connaissance\\\\Question 3.txt', 'start_index': 0}),\n",
       " Document(page_content=\"Question:Quand l'ORSA doit il être remis à l'autorité de contrôle ?\", metadata={'source': 'base_de_connaissance\\\\Question 4.txt', 'start_index': 0}),\n",
       " Document(page_content=\"Réponse: Selon l'article  R.355-2 sur les délais et modalités de remise de l’information (référence aux articles 290 à 314 du règlement délégué), le rapport ORSA doit être transmis aux autorités de contrôle dans un délai de 2 semaines après la clôture de\", metadata={'source': 'base_de_connaissance\\\\Question 4.txt', 'start_index': 69}),\n",
       " Document(page_content=\"délégué), le rapport ORSA doit être transmis aux autorités de contrôle dans un délai de 2 semaines après la clôture de l'évaluation.\", metadata={'source': 'base_de_connaissance\\\\Question 4.txt', 'start_index': 205}),\n",
       " Document(page_content=\"Question: Quand le RSR doit il être remis à l'autorité de contrôle ?\\n\\nRéponse: Selon l'article 312 du RD, le le rapport régulier au contrôleur doit être transmis au plus tard 14 semaines après la clôture de l'exercice financier de l'entreprise.\", metadata={'source': 'base_de_connaissance\\\\Question 5.txt', 'start_index': 0}),\n",
       " Document(page_content=\"Question: A quelle fréquence le RSR doit il êtrce remis à l'autorité de contrôle ?\", metadata={'source': 'base_de_connaissance\\\\Question 6.txt', 'start_index': 0}),\n",
       " Document(page_content=\"Réponse: Selon l’article 312 du règlement délégué, le rapport régulier au contrôleur est soumis au moins tous les 3 ans par les entreprises d'assurance et de réassurance.\", metadata={'source': 'base_de_connaissance\\\\Question 6.txt', 'start_index': 84}),\n",
       " Document(page_content=\"Il prévoit également que les autorités de contrôle peuvent exiger d'une entreprise d'assurance ou de réassurance qu'elle soumette son rapport régulier au contrôleur à la fin de tout exercice.\", metadata={'source': 'base_de_connaissance\\\\Question 6.txt', 'start_index': 255}),\n",
       " Document(page_content='Question: Est-il obligaroie de publier sont rapport la solvabilité et la situation financière?', metadata={'source': 'base_de_connaissance\\\\Question 7.txt', 'start_index': 0}),\n",
       " Document(page_content='Réponse: L’article L. 355-5 du Code des assurances prévoit que les entreprises d’assurance et de réassurance doivent publier annuellement un rapport sur la solvabilité et la situation financière (RSSF – « SFCR » en anglais).', metadata={'source': 'base_de_connaissance\\\\Question 7.txt', 'start_index': 96}),\n",
       " Document(page_content=\"Selon l'article Article R355-9 du code des assurances, l'Autorité de contrôle prudentiel et de résolution peut autoriser les entreprises d'assurance ou de réassurance à ne pas publier une information dans leur rapport sur la solvabilité et la situation\", metadata={'source': 'base_de_connaissance\\\\Question 7.txt', 'start_index': 322}),\n",
       " Document(page_content=\"entreprises d'assurance ou de réassurance à ne pas publier une information dans leur rapport sur la solvabilité et la situation financière dans les deux cas suivants :\", metadata={'source': 'base_de_connaissance\\\\Question 7.txt', 'start_index': 447}),\n",
       " Document(page_content=\"a) La publication de cette information conférerait aux concurrents de l'entreprise concernée un avantage indu important ;\", metadata={'source': 'base_de_connaissance\\\\Question 7.txt', 'start_index': 615}),\n",
       " Document(page_content=\"b) L'entreprise est tenue au secret ou à la confidentialité en raison d'obligations l'engageant à l'égard d'assurés, souscripteurs ou bénéficiaires de contrats, d'entreprises réassurées ou de toute autre relation avec une contrepartie. Ces obligations ne\", metadata={'source': 'base_de_connaissance\\\\Question 7.txt', 'start_index': 737}),\n",
       " Document(page_content=\"ou bénéficiaires de contrats, d'entreprises réassurées ou de toute autre relation avec une contrepartie. Ces obligations ne sauraient toutefois avoir pour seule fin de soustraire l'entreprise à son obligation de publier les informations correspondantes\", metadata={'source': 'base_de_connaissance\\\\Question 7.txt', 'start_index': 868}),\n",
       " Document(page_content=\"toutefois avoir pour seule fin de soustraire l'entreprise à son obligation de publier les informations correspondantes dans son rapport sur la solvabilité et la situation financière.\", metadata={'source': 'base_de_connaissance\\\\Question 7.txt', 'start_index': 1002}),\n",
       " Document(page_content=\"Question: Quelle est la procédure à suivre en cas de changement d'actionnariat au sein d'un organisme ?\", metadata={'source': 'base_de_connaissance\\\\Question 8.txt', 'start_index': 0}),\n",
       " Document(page_content='Réponse : Une autorisation préalable de l’ACPR est nécessaire lorsque la prise de participation directe ou indirecte, affectant l’actionnariat d’une entreprise d’assurance ou de réassurance agréée ayant son siège social en France, se traduit par le', metadata={'source': 'base_de_connaissance\\\\Question 8.txt', 'start_index': 105}),\n",
       " Document(page_content='l’actionnariat d’une entreprise d’assurance ou de réassurance agréée ayant son siège social en France, se traduit par le franchissement à la baisse des seuils de 50%, 33%, 20% ou 10% des droits de vote (articles R. 322-11-1 et R. 322-11-3 du Code des', metadata={'source': 'base_de_connaissance\\\\Question 8.txt', 'start_index': 233}),\n",
       " Document(page_content='à la baisse des seuils de 50%, 33%, 20% ou 10% des droits de vote (articles R. 322-11-1 et R. 322-11-3 du Code des assurances).', metadata={'source': 'base_de_connaissance\\\\Question 8.txt', 'start_index': 369}),\n",
       " Document(page_content='Question: Les remises trimestrielles des états quantitatifs S2 sont elles obligatoires?', metadata={'source': 'base_de_connaissance\\\\Question 9.txt', 'start_index': 0}),\n",
       " Document(page_content=\"Réponse : L'article 35 de la directive Solvabilité II,  prévoit la possibilité, pour les autorités de contrôle, d’exempter certains organismes de remises trimestrielles lorsque :\", metadata={'source': 'base_de_connaissance\\\\Question 9.txt', 'start_index': 89}),\n",
       " Document(page_content=\"a) la fourniture de ces informations représenterait une charge disproportionnée compte tenu de la nature, de l'ampleur et de la complexité des risques inhérents à l'activité de l'entreprise;\\nb) ces informations sont communiquées au moins une fois par an.\", metadata={'source': 'base_de_connaissance\\\\Question 9.txt', 'start_index': 268}),\n",
       " Document(page_content='b) ces informations sont communiquées au moins une fois par an.\\nLa directive précise toutefois que la population exemptée ne peut dépasser plus de 20% de part de marché.', metadata={'source': 'base_de_connaissance\\\\Question 9.txt', 'start_index': 459}),\n",
       " Document(page_content='Une instruction de l’ACPR  fixe, au regard de la taille de bilan de l’organisme ou du groupe et de son activité, les seuils d’exemption de remise d’information trimestrielle suivants :\\nSeuil vie : 8 milliards d’euros de bilan ;', metadata={'source': 'base_de_connaissance\\\\Question 9.txt', 'start_index': 629}),\n",
       " Document(page_content='Seuil vie : 8 milliards d’euros de bilan ;\\nSeuil non vie : 0,5 milliard d’euros de bilan ;\\nSeuil réassurance : 4 milliards d’euros de bilan.', metadata={'source': 'base_de_connaissance\\\\Question 9.txt', 'start_index': 814})]"
      ]
     },
     "execution_count": 8,
     "metadata": {},
     "output_type": "execute_result"
    }
   ],
   "source": [
    "chunks\n"
   ]
  },
  {
   "cell_type": "code",
   "execution_count": 9,
   "metadata": {},
   "outputs": [
    {
     "name": "stderr",
     "output_type": "stream",
     "text": [
      "c:\\Users\\phile\\local\\Suptech-sprint\\.conda\\Lib\\site-packages\\onnxruntime\\capi\\onnxruntime_validation.py:26: UserWarning: Unsupported Windows version (11). ONNX Runtime supports Windows 10 and above, only.\n",
      "  warnings.warn(\n"
     ]
    }
   ],
   "source": [
    "# azure_vector_store = AzureSearch(azure_search_endpoint=search_endpoint, \n",
    "#                                  azure_search_key=search_key,\n",
    "#                                  index_name=search_index_name, \n",
    "#                                  embedding_function=embeddings.embed_query)\n",
    "\n",
    "# load it into Chroma\n",
    "db = Chroma.from_documents(chunks, embedding= embeddings)\n"
   ]
  },
  {
   "cell_type": "code",
   "execution_count": 10,
   "metadata": {},
   "outputs": [],
   "source": [
    "# azure_vector_store.add_texts(chunks)\n"
   ]
  },
  {
   "cell_type": "code",
   "execution_count": 11,
   "metadata": {},
   "outputs": [],
   "source": [
    "# azure_vector_store.add_documents(documents = chunks)\n"
   ]
  },
  {
   "cell_type": "code",
   "execution_count": 14,
   "metadata": {},
   "outputs": [
    {
     "name": "stdout",
     "output_type": "stream",
     "text": [
      "page_content='Question: Les remises trimestrielles des états quantitatifs S2 sont elles obligatoires?' metadata={'source': 'base_de_connaissance\\\\Question 9.txt', 'start_index': 0}\n",
      "page_content=\"Question: A quelle fréquence le RSR doit il êtrce remis à l'autorité de contrôle ?\" metadata={'source': 'base_de_connaissance\\\\Question 6.txt', 'start_index': 0}\n",
      "page_content=\"Question: Un ORSA annuel est-il obligatoire?\\n\\nRéponse: Selon l'article R354-3-4 du code des assurances, les entreprises procèdent à cette évaluation interne au moins une fois par an et en cas d'évolution notable de leur profil de risque.\" metadata={'source': 'base_de_connaissance\\\\Question 3.txt', 'start_index': 0}\n",
      "page_content=\"Question: Quand le RSR doit il être remis à l'autorité de contrôle ?\\n\\nRéponse: Selon l'article 312 du RD, le le rapport régulier au contrôleur doit être transmis au plus tard 14 semaines après la clôture de l'exercice financier de l'entreprise.\" metadata={'source': 'base_de_connaissance\\\\Question 5.txt', 'start_index': 0}\n"
     ]
    }
   ],
   "source": [
    "query = \"Quelle part du risque des sociétés d'assurance mutuelle membres d'une union de sociétés d'assurance mutuelle est réassurée par l'union ?\" # OK n°1\n",
    "query = \"Qu'est-ce que l'ajustement symétrique ?\" # OK n°1\n",
    "query = \"Quelles sont les exigences sur les hypothèses portant sur les futures décisions de gestion dans le calcul des provisions prudentielles ?\" # OK n°1\n",
    "query = \"De quoi sont constitués les fonds propres auxiliaires ?\" # OK n°1\n",
    "# query = \"En quoi consiste la méthode 2 du calcul de la marge de risque ?\" # OK n°1\n",
    "# query = \"Quelle hypothèse est introduite dans la deuxième méthode de calcul de la marge de risque ?\" # OK n°1\n",
    "# query = \"Comment est calculé l'ajustement symétrique ?\" # OK n°1\n",
    "# query = \"Une évaluation interne des risques et de la solvabilité est elle obligatoire ?\"# KO\n",
    "# query = \"Quelles types d'évaluations doivent être menées dans le cadre d'une évaluation interne des risques et de la solvabilité ?\"# OK\n",
    "# query = \"Quelles sont les attendus d'un ORSA?\"# OK\n",
    "# query = \"A quelle fréquence l'ORSA doit il être réalisé?\" # KO\n",
    "# query = \"A quelle date le rapport ORSA doit il être remis aux autorités de contrôle?\"# OK\n",
    "# query = \"Existe-t-il un délai de remise du rapprot ORSA?\"# OK\n",
    "# query = \"A quelle date le rapport régulier au contrôleur  doit il être remis aux autorités de contrôle?\"# OK\n",
    "# query = \"Existe-t-il un délai de remise du rapport régulier au contrôleur ?\"# OK\n",
    "# query = \"Quel est le nombre minimal de membre de l'assemblée générale d'une SAM\"# KO\n",
    "# query = \"Un organisme peut-il ne pas remettre des QRT?\"# KO\n",
    "query = \"Une remise annuelle du RSR est-elle obligatoire?\"# OK n°2\n",
    "# 14 / 18 OK\n",
    "docs = db.similarity_search(query)\n",
    "\n",
    "print(docs[0])\n",
    "print(docs[1])\n",
    "print(docs[2])\n",
    "print(docs[3])\n"
   ]
  },
  {
   "cell_type": "code",
   "execution_count": null,
   "metadata": {},
   "outputs": [],
   "source": [
    "# https://codepen.io/t_afif/pen/ExXyXpB\n",
    "\n",
    "\n"
   ]
  },
  {
   "cell_type": "code",
   "execution_count": null,
   "metadata": {},
   "outputs": [],
   "source": [
    "body {\n",
    "  font-family: monospace;\n",
    "  font-weight: 700;\n",
    "  font-size:30px;\n",
    "  padding:20px;\n",
    "  background:#005F6B;\n",
    "  color:#00DFFC\n",
    "}\n",
    "\n",
    ".type {\n",
    "  color:#0000;\n",
    "  background:\n",
    "    linear-gradient(-90deg,#00DFFC 5px,#0000 0) 10px 0,\n",
    "    linear-gradient(#00DFFC 0 0) 0 0;\n",
    "  background-size:calc(var(--n)*1ch) 200%;\n",
    "  -webkit-background-clip:padding-box,text;\n",
    "  background-clip:padding-box,text;\n",
    "  background-repeat:no-repeat;\n",
    "  animation: \n",
    "   b .7s infinite steps(1),   \n",
    "   t calc(var(--n)*.05s) steps(var(--n)) forwards;\n",
    "}\n",
    "\n",
    "@keyframes t{\n",
    "  from {background-size:0 200%}\n",
    "}\n",
    "@keyframes b{\n",
    "  50% {background-position:0 -100%,0 0}\n",
    "}"
   ]
  },
  {
   "cell_type": "code",
   "execution_count": null,
   "metadata": {},
   "outputs": [],
   "source": [
    "Contrôleur : <span class=\"type\" style=\"--n:1000\">\n",
    "  \n",
    "\n",
    "De quoi sont constitués les fonds propres auxiliaires ?<br/>\n",
    "\n",
    "Eurêka : Voici la question la plus ressemblante dans la FAQ <br/>\n",
    "\n",
    "Question 6 :  Comment sont calculés les fonds propres prudentielles ? <br/>\n",
    "D’après l’articles R351-18 du code des assurances, les fonds propres prudentiels sont constitués de l’excédent des actifs par rapport aux passifs prudentiels auxquels sont retirés les actions propres, les passifs subordonnés et les fonds propres auxiliaires hors bilan.\n",
    "Les fonds propres auxiliaires sont constitués d’après l’article R351-19 du code des assurances d'éléments, autres que les fonds propres de base, qui peuvent être appelés pour absorber des pertes.\n",
    "\n",
    "\n",
    "\n",
    "\n",
    "\n",
    "</span>"
   ]
  }
 ],
 "metadata": {
  "kernelspec": {
   "display_name": "Python 3",
   "language": "python",
   "name": "python3"
  },
  "language_info": {
   "codemirror_mode": {
    "name": "ipython",
    "version": 3
   },
   "file_extension": ".py",
   "mimetype": "text/x-python",
   "name": "python",
   "nbconvert_exporter": "python",
   "pygments_lexer": "ipython3",
   "version": "3.12.1"
  }
 },
 "nbformat": 4,
 "nbformat_minor": 2
}
